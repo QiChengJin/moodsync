{
 "cells": [
  {
   "cell_type": "code",
   "execution_count": 1,
   "metadata": {},
   "outputs": [],
   "source": [
    "from spotify_api import get_song_features"
   ]
  },
  {
   "cell_type": "code",
   "execution_count": 5,
   "metadata": {},
   "outputs": [
    {
     "data": {
      "text/html": [
       "<div>\n",
       "<style scoped>\n",
       "    .dataframe tbody tr th:only-of-type {\n",
       "        vertical-align: middle;\n",
       "    }\n",
       "\n",
       "    .dataframe tbody tr th {\n",
       "        vertical-align: top;\n",
       "    }\n",
       "\n",
       "    .dataframe thead th {\n",
       "        text-align: right;\n",
       "    }\n",
       "</style>\n",
       "<table border=\"1\" class=\"dataframe\">\n",
       "  <thead>\n",
       "    <tr style=\"text-align: right;\">\n",
       "      <th></th>\n",
       "      <th>danceability</th>\n",
       "      <th>energy</th>\n",
       "      <th>key</th>\n",
       "      <th>loudness</th>\n",
       "      <th>mode</th>\n",
       "      <th>speechiness</th>\n",
       "      <th>acousticness</th>\n",
       "      <th>instrumentalness</th>\n",
       "      <th>liveness</th>\n",
       "      <th>valence</th>\n",
       "      <th>tempo</th>\n",
       "      <th>type</th>\n",
       "      <th>id</th>\n",
       "      <th>uri</th>\n",
       "      <th>track_href</th>\n",
       "      <th>analysis_url</th>\n",
       "      <th>duration_ms</th>\n",
       "      <th>time_signature</th>\n",
       "    </tr>\n",
       "  </thead>\n",
       "  <tbody>\n",
       "    <tr>\n",
       "      <th>0</th>\n",
       "      <td>0.531</td>\n",
       "      <td>0.747</td>\n",
       "      <td>0</td>\n",
       "      <td>-3.717</td>\n",
       "      <td>1</td>\n",
       "      <td>0.0946</td>\n",
       "      <td>0.0549</td>\n",
       "      <td>0</td>\n",
       "      <td>0.244</td>\n",
       "      <td>0.434</td>\n",
       "      <td>148.039</td>\n",
       "      <td>audio_features</td>\n",
       "      <td>68gQG2HpRMxIRom4pCugMq</td>\n",
       "      <td>spotify:track:68gQG2HpRMxIRom4pCugMq</td>\n",
       "      <td>https://api.spotify.com/v1/tracks/68gQG2HpRMxI...</td>\n",
       "      <td>https://api.spotify.com/v1/audio-analysis/68gQ...</td>\n",
       "      <td>214800</td>\n",
       "      <td>4</td>\n",
       "    </tr>\n",
       "  </tbody>\n",
       "</table>\n",
       "</div>"
      ],
      "text/plain": [
       "   danceability  energy  ...  duration_ms  time_signature\n",
       "0         0.531   0.747  ...       214800               4\n",
       "\n",
       "[1 rows x 18 columns]"
      ]
     },
     "execution_count": 5,
     "metadata": {},
     "output_type": "execute_result"
    }
   ],
   "source": [
    "chill_kill_url = \"https://open.spotify.com/track/68gQG2HpRMxIRom4pCugMq\"\n",
    "chill_kill_df = get_song_features(chill_kill_url)\n",
    "chill_kill_df"
   ]
  }
 ],
 "metadata": {
  "kernelspec": {
   "display_name": "env_for_cs441",
   "language": "python",
   "name": "python3"
  },
  "language_info": {
   "codemirror_mode": {
    "name": "ipython",
    "version": 3
   },
   "file_extension": ".py",
   "mimetype": "text/x-python",
   "name": "python",
   "nbconvert_exporter": "python",
   "pygments_lexer": "ipython3",
   "version": "3.11.7"
  }
 },
 "nbformat": 4,
 "nbformat_minor": 2
}
